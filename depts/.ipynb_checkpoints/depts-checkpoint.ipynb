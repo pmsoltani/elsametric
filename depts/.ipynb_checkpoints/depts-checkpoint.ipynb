{
 "cells": [
  {
   "cell_type": "code",
   "execution_count": 45,
   "metadata": {},
   "outputs": [],
   "source": [
    "# modules\n",
    "import os\n",
    "import io\n",
    "import csv\n",
    "import json\n",
    "from collections import OrderedDict"
   ]
  },
  {
   "cell_type": "code",
   "execution_count": 19,
   "metadata": {},
   "outputs": [],
   "source": [
    "# constants\n",
    "path = 'E:\\\\Personal\\\\Git\\\\elsametric\\\\data\\\\Sharif University of Technology'\n",
    "files = list(os.walk(path))[0][2]"
   ]
  },
  {
   "cell_type": "code",
   "execution_count": 59,
   "metadata": {},
   "outputs": [],
   "source": [
    "# import\n",
    "\n",
    "with io.open(os.path.join(path, files[0]), 'r', encoding='utf8') as raw:\n",
    "    data = json.load(raw)\n",
    "\n",
    "faculties = []\n",
    "with io.open('E:\\\\Personal\\\\Git\\\\elsametric\\\\faculties.csv', 'r', encoding='utf-8-sig') as csvFile:\n",
    "    reader = csv.DictReader(csvFile)\n",
    "    for row in reader:\n",
    "        faculties.append(row)"
   ]
  },
  {
   "cell_type": "code",
   "execution_count": 62,
   "metadata": {
    "scrolled": false
   },
   "outputs": [],
   "source": [
    "# playground\n",
    "\n",
    "class Institution:\n",
    "    \n",
    "    count = 0\n",
    "    \n",
    "    def __init__(self, affil_id, name = 'Sharif', alias = []):\n",
    "        self.id = affil_id\n",
    "        self.name = name\n",
    "        self.alias = alias\n",
    "        self.depts = []\n",
    "        count += 1\n",
    "    \n",
    "    def add_dept(self, dept):\n",
    "        if dept not in self.depts:\n",
    "            self.depts.append(dept)\n",
    "\n",
    "class Department:\n",
    "    \n",
    "    count = 0\n",
    "    \n",
    "    def __init__(self, name, abbr, parent, alias = []):\n",
    "        self.name = name\n",
    "        self.abbr = abbr\n",
    "        self.parent = parent\n",
    "        self.alias = alias\n",
    "        self.authors = []\n",
    "        self.faculties = []\n",
    "        count += 1\n",
    "    \n",
    "    def add_author(self, author):\n",
    "        if author not in self.authors:\n",
    "            self.authors.append(author)\n",
    "            if (author.faculty) and (author not in self.faculties):\n",
    "                self.faculties.append(author)\n",
    "\n",
    "class Author:\n",
    "    \n",
    "    count = 0\n",
    "    \n",
    "    def __init__(self, author_id, first_name, last_name, gender = '', rank = '', faculty = False):\n",
    "        self.id = author_id\n",
    "        self.first = first_name\n",
    "        self.last = last_name\n",
    "        self.dept = dept\n",
    "        self.inst = inst\n",
    "        self.faculty = faculty\n",
    "        self.gender = gender\n",
    "        self.rank = ''\n",
    "        self.publications = []\n",
    "        count += 1\n",
    "    \n",
    "    def add_pub(self, publication):\n",
    "        if publication not in self.publications:\n",
    "            self.publications.append(publication)\n",
    "\n"
   ]
  },
  {
   "cell_type": "code",
   "execution_count": 82,
   "metadata": {},
   "outputs": [],
   "source": [
    "for member in faculties:\n",
    "    if member['Scopus'] and type(member['Scopus']) != list:\n",
    "        member['Scopus'] = [eval(author_id)[0] for author_id in member['Scopus'].split(';')]"
   ]
  }
 ],
 "metadata": {
  "kernelspec": {
   "display_name": "Python 3",
   "language": "python",
   "name": "python3"
  },
  "language_info": {
   "codemirror_mode": {
    "name": "ipython",
    "version": 3
   },
   "file_extension": ".py",
   "mimetype": "text/x-python",
   "name": "python",
   "nbconvert_exporter": "python",
   "pygments_lexer": "ipython3",
   "version": "3.6.8"
  }
 },
 "nbformat": 4,
 "nbformat_minor": 2
}
