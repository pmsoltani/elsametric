{
 "cells": [
  {
   "cell_type": "code",
   "execution_count": 44,
   "metadata": {},
   "outputs": [],
   "source": [
    "import requests as req\n",
    "import json\n",
    "from pymongo import MongoClient\n",
    "from pprint import pprint\n",
    "\n",
    "with open('config.json', 'r') as read_file:\n",
    "    client = json.load(read_file)\n",
    "\n",
    "db_client = MongoClient('localhost', 27017)"
   ]
  },
  {
   "cell_type": "code",
   "execution_count": 31,
   "metadata": {},
   "outputs": [],
   "source": [
    "# functions\n",
    "def scp_query(query: str = '', inst: str = '', city: str = '', country: str = '', start_year: int = 0, end_year: int = 0):\n",
    "    inst_q, city_q, country_q = '', '', ''\n",
    "    if inst:\n",
    "        inst_q = ' AND '.join(inst.lower().split(' '))\n",
    "    if city:\n",
    "        city_q = ' AND '.join(city.lower().split(' '))\n",
    "    if country:\n",
    "        country_q = ' AND '.join(country.lower().split(' '))\n",
    "    query = [\n",
    "        (f'{query}' if query else ''),\n",
    "        (f'AFFIL({inst_q})' if inst_q else ''),\n",
    "        (f'AFFILCITY({city_q})' if city_q else ''),\n",
    "        (f'AFFILCOUNTRY({country_q})' if country_q else ''),\n",
    "        (f'(PUBYEAR > {start_year - 1})' if start_year else ''),\n",
    "        (f'(PUBYEAR < {end_year + 1})' if end_year != 0 else ''),\n",
    "    ]\n",
    "    query = filter(lambda element: element, query)\n",
    "    return ' AND '.join(query)\n",
    "\n",
    "def scp_lookup(client:dict, query: str, cnt, start_cursor: int = 0, count_per_page: int = 25):\n",
    "    base = 'https://api.elsevier.com/content/search/scopus'\n",
    "    params = {\n",
    "        'query': query,\n",
    "        'apiKey': client['apikey'],\n",
    "        'insttoken': client['insttoken'],\n",
    "        'view': 'COMPLETE',\n",
    "        'start': f'{start_cursor + (cnt * count_per_page)}',\n",
    "        'count': f'{count_per_page}',\n",
    "    }\n",
    "    headers = {'Accept': 'application/json'}\n",
    "    return req.get(url=base, params=params)"
   ]
  },
  {
   "cell_type": "code",
   "execution_count": null,
   "metadata": {},
   "outputs": [],
   "source": [
    "start_year = 2017\n",
    "end_year = 2017\n",
    "access_type = 'ACCESSTYPE(OA)' #open access\n",
    "access_type = 'ACCESSTYPE(OTHER)'\n",
    "affil_IDs = [\n",
    "    'AF-ID(\"Sharif University of Technology\" 60027666)',\n",
    "    'AF-ID(\"University of Tehran\" 60022927)',\n",
    "    'AF-ID(\"Tarbiat Modares University\" 60032053)',\n",
    "    'AF-ID(\"Amirkabir University of Technology\" 60007751)',\n",
    "    'AF-ID(\"Shahid Beheshti University\" 60032873)',\n",
    "    'AF-ID(\"Ferdowsi University of Mashhad\" 60001800)',\n",
    "]\n",
    "query = scp_query(query=affil_IDs[3], start_year=start_year, end_year=end_year)\n",
    "\n",
    "res = scp_lookup(client=client, query=query, cnt=0)\n",
    "\n",
    "# res.json()\n",
    "titles = [doc['dc:title'] for doc in res.json()['search-results']['entry']]\n",
    "for t in titles:\n",
    "    print(t)\n",
    "    print()"
   ]
  },
  {
   "cell_type": "code",
   "execution_count": 37,
   "metadata": {},
   "outputs": [
    {
     "data": {
      "text/plain": [
       "'2424'"
      ]
     },
     "execution_count": 37,
     "metadata": {},
     "output_type": "execute_result"
    }
   ],
   "source": [
    "res.json()['search-results']['opensearch:totalResults']"
   ]
  },
  {
   "cell_type": "code",
   "execution_count": 46,
   "metadata": {},
   "outputs": [
    {
     "name": "stdout",
     "output_type": "stream",
     "text": [
      "One post: 5cc4330b8e36a50c2ce49466\n"
     ]
    }
   ],
   "source": [
    "#database\n",
    "db = db_client['amirkabir']\n",
    "posts = db.posts\n",
    "post_data = {\n",
    "    'title': 'Python and MongoDB',\n",
    "    'content': 'PyMongo is fun, you guys',\n",
    "    'author': 'Scott'\n",
    "}\n",
    "result = posts.insert_one(post_data)\n",
    "print('One post: {0}'.format(result.inserted_id))"
   ]
  }
 ],
 "metadata": {
  "kernelspec": {
   "display_name": "Python 3",
   "language": "python",
   "name": "python3"
  },
  "language_info": {
   "codemirror_mode": {
    "name": "ipython",
    "version": 3
   },
   "file_extension": ".py",
   "mimetype": "text/x-python",
   "name": "python",
   "nbconvert_exporter": "python",
   "pygments_lexer": "ipython3",
   "version": "3.6.8"
  }
 },
 "nbformat": 4,
 "nbformat_minor": 2
}
