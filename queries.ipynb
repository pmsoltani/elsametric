{
 "cells": [
  {
   "cell_type": "code",
   "execution_count": 1,
   "metadata": {
    "ExecuteTime": {
     "end_time": "2019-07-19T11:52:39.927582Z",
     "start_time": "2019-07-19T11:52:38.489376Z"
    }
   },
   "outputs": [],
   "source": [
    "import time\n",
    "import io\n",
    "import csv\n",
    "\n",
    "from sqlalchemy import extract\n",
    "from elsametric.db_classes.base import Session\n",
    "\n",
    "from elsametric.db_classes.associations import Author_Department\n",
    "from elsametric.db_classes.associations import Paper_Keyword\n",
    "from elsametric.db_classes.associations import Paper_Author\n",
    "from elsametric.db_classes.associations import Source_Subject\n",
    "\n",
    "from elsametric.db_classes.author import Author\n",
    "from elsametric.db_classes.author_profile import Author_Profile\n",
    "from elsametric.db_classes.country import Country\n",
    "from elsametric.db_classes.department import Department\n",
    "from elsametric.db_classes.fund import Fund\n",
    "from elsametric.db_classes.institution import Institution\n",
    "from elsametric.db_classes.keyword_ import Keyword\n",
    "from elsametric.db_classes.paper import Paper\n",
    "from elsametric.db_classes.source import Source\n",
    "from elsametric.db_classes.source_metric import Source_Metric\n",
    "from elsametric.db_classes.subject import Subject"
   ]
  },
  {
   "cell_type": "code",
   "execution_count": 2,
   "metadata": {
    "ExecuteTime": {
     "end_time": "2019-07-19T11:52:42.787962Z",
     "start_time": "2019-07-19T11:52:42.714627Z"
    }
   },
   "outputs": [],
   "source": [
    "session = Session()\n",
    "\n",
    "a = session.query(Author)\n",
    "prf = session.query(Author_Profile)\n",
    "c = session.query(Country)\n",
    "d = session.query(Department)\n",
    "f = session.query(Fund)\n",
    "i = session.query(Institution)\n",
    "k = session.query(Keyword)\n",
    "p = session.query(Paper)\n",
    "src = session.query(Source)\n",
    "m = session.query(Source_Metric)\n",
    "sub = session.query(Subject)"
   ]
  },
  {
   "cell_type": "code",
   "execution_count": 6,
   "metadata": {
    "ExecuteTime": {
     "end_time": "2019-07-19T11:53:04.927303Z",
     "start_time": "2019-07-19T11:53:04.874728Z"
    }
   },
   "outputs": [
    {
     "name": "stdout",
     "output_type": "stream",
     "text": [
      "here\n"
     ]
    },
    {
     "ename": "AttributeError",
     "evalue": "'Author' object has no attribute '_countries'",
     "output_type": "error",
     "traceback": [
      "\u001b[0;31m---------------------------------------------------------------------------\u001b[0m",
      "\u001b[0;31mAttributeError\u001b[0m                            Traceback (most recent call last)",
      "\u001b[0;32m<ipython-input-6-fb11db5d7333>\u001b[0m in \u001b[0;36m<module>\u001b[0;34m\u001b[0m\n\u001b[1;32m      1\u001b[0m \u001b[0mauthor\u001b[0m \u001b[0;34m=\u001b[0m \u001b[0ma\u001b[0m\u001b[0;34m.\u001b[0m\u001b[0mfilter\u001b[0m\u001b[0;34m(\u001b[0m\u001b[0mAuthor\u001b[0m\u001b[0;34m.\u001b[0m\u001b[0mid_scp\u001b[0m \u001b[0;34m==\u001b[0m \u001b[0;36m6602882167\u001b[0m\u001b[0;34m)\u001b[0m\u001b[0;34m.\u001b[0m\u001b[0mfirst\u001b[0m\u001b[0;34m(\u001b[0m\u001b[0;34m)\u001b[0m\u001b[0;34m\u001b[0m\u001b[0;34m\u001b[0m\u001b[0m\n\u001b[0;32m----> 2\u001b[0;31m \u001b[0mauthor\u001b[0m\u001b[0;34m.\u001b[0m\u001b[0mcountries\u001b[0m\u001b[0;34m(\u001b[0m\u001b[0;34m)\u001b[0m\u001b[0;34m\u001b[0m\u001b[0;34m\u001b[0m\u001b[0m\n\u001b[0m",
      "\u001b[0;32m~/Downloads/Git/elsametric/elsametric/db_classes/author.py\u001b[0m in \u001b[0;36mcountries\u001b[0;34m(self, force)\u001b[0m\n\u001b[1;32m     74\u001b[0m         \u001b[0;32mif\u001b[0m \u001b[0mforce\u001b[0m\u001b[0;34m:\u001b[0m\u001b[0;34m\u001b[0m\u001b[0;34m\u001b[0m\u001b[0m\n\u001b[1;32m     75\u001b[0m             \u001b[0mself\u001b[0m\u001b[0;34m.\u001b[0m\u001b[0m_countries\u001b[0m \u001b[0;34m=\u001b[0m \u001b[0mset\u001b[0m\u001b[0;34m(\u001b[0m\u001b[0;34m)\u001b[0m\u001b[0;34m\u001b[0m\u001b[0;34m\u001b[0m\u001b[0m\n\u001b[0;32m---> 76\u001b[0;31m         \u001b[0;32mif\u001b[0m \u001b[0;32mnot\u001b[0m \u001b[0mself\u001b[0m\u001b[0;34m.\u001b[0m\u001b[0m_countries\u001b[0m\u001b[0;34m:\u001b[0m\u001b[0;34m\u001b[0m\u001b[0;34m\u001b[0m\u001b[0m\n\u001b[0m\u001b[1;32m     77\u001b[0m             \u001b[0;32mfor\u001b[0m \u001b[0minstitution\u001b[0m \u001b[0;32min\u001b[0m \u001b[0mself\u001b[0m\u001b[0;34m.\u001b[0m\u001b[0minstitutions\u001b[0m\u001b[0;34m(\u001b[0m\u001b[0mforce\u001b[0m\u001b[0;34m=\u001b[0m\u001b[0mforce\u001b[0m\u001b[0;34m)\u001b[0m\u001b[0;34m:\u001b[0m\u001b[0;34m\u001b[0m\u001b[0;34m\u001b[0m\u001b[0m\n\u001b[1;32m     78\u001b[0m                 \u001b[0;32mif\u001b[0m \u001b[0minstitution\u001b[0m\u001b[0;34m.\u001b[0m\u001b[0mcountry\u001b[0m\u001b[0;34m:\u001b[0m\u001b[0;34m\u001b[0m\u001b[0;34m\u001b[0m\u001b[0m\n",
      "\u001b[0;31mAttributeError\u001b[0m: 'Author' object has no attribute '_countries'"
     ]
    }
   ],
   "source": [
    "author = a.filter(Author.id_scp == 6602882167).first()\n",
    "author.countries()"
   ]
  },
  {
   "cell_type": "code",
   "execution_count": null,
   "metadata": {},
   "outputs": [],
   "source": []
  }
 ],
 "metadata": {
  "kernelspec": {
   "display_name": "Python 3",
   "language": "python",
   "name": "python3"
  },
  "language_info": {
   "codemirror_mode": {
    "name": "ipython",
    "version": 3
   },
   "file_extension": ".py",
   "mimetype": "text/x-python",
   "name": "python",
   "nbconvert_exporter": "python",
   "pygments_lexer": "ipython3",
   "version": "3.7.3"
  }
 },
 "nbformat": 4,
 "nbformat_minor": 2
}
