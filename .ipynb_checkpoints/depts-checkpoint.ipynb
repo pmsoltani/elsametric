{
 "cells": [
  {
   "cell_type": "code",
   "execution_count": 1,
   "metadata": {},
   "outputs": [],
   "source": [
    "# modules\n",
    "\n",
    "import os\n",
    "import io\n",
    "import csv\n",
    "import json\n",
    "from collections import OrderedDict"
   ]
  },
  {
   "cell_type": "code",
   "execution_count": 2,
   "metadata": {},
   "outputs": [],
   "source": [
    "# constants\n",
    "\n",
    "path = 'data\\\\Sharif University of Technology'\n",
    "files = list(os.walk(path))[0][2]"
   ]
  },
  {
   "cell_type": "code",
   "execution_count": 76,
   "metadata": {},
   "outputs": [],
   "source": [
    "# import\n",
    "\n",
    "with io.open(os.path.join(path, files[0]), 'r', encoding='utf8') as raw:\n",
    "    data = json.load(raw)\n",
    "\n",
    "faculties = []\n",
    "with io.open('data\\\\faculties.csv', 'r', encoding='utf-8-sig') as csvFile:\n",
    "    reader = csv.DictReader(csvFile)\n",
    "    for row in reader:\n",
    "        if row['Scopus']:\n",
    "            row['Scopus'] = [eval(auth_id)[0] for auth_id in row['Scopus'].split(';')]\n",
    "        faculties.append(row)"
   ]
  },
  {
   "cell_type": "code",
   "execution_count": 79,
   "metadata": {},
   "outputs": [],
   "source": [
    "# data['search-results']['entry'][0]['author'][0]['authid']\n",
    "\n",
    "for file in files[0:1]:\n",
    "    with io.open(os.path.join(path, file), 'r', encoding='utf8') as raw:\n",
    "        data = json.load(raw)\n",
    "    data = data['search-results']['entry']\n",
    "    for paper in data:\n",
    "        auth_ids = [auth['authid'] for auth in paper['author']]"
   ]
  },
  {
   "cell_type": "code",
   "execution_count": 89,
   "metadata": {},
   "outputs": [
    {
     "data": {
      "text/plain": [
       "{'@_fa': 'true',\n",
       " 'link': [{'@_fa': 'true',\n",
       "   '@ref': 'self',\n",
       "   '@href': 'https://api.elsevier.com/content/abstract/scopus_id/85059543553'},\n",
       "  {'@_fa': 'true',\n",
       "   '@ref': 'author-affiliation',\n",
       "   '@href': 'https://api.elsevier.com/content/abstract/scopus_id/85059543553?field=author,affiliation'},\n",
       "  {'@_fa': 'true',\n",
       "   '@ref': 'scopus',\n",
       "   '@href': 'https://www.scopus.com/inward/record.uri?partnerID=HzOxMe3b&scp=85059543553&origin=inward'},\n",
       "  {'@_fa': 'true',\n",
       "   '@ref': 'scopus-citedby',\n",
       "   '@href': 'https://www.scopus.com/inward/citedby.uri?partnerID=HzOxMe3b&scp=85059543553&origin=inward'}],\n",
       " 'prism:url': 'https://api.elsevier.com/content/abstract/scopus_id/85059543553',\n",
       " 'dc:identifier': 'SCOPUS_ID:85059543553',\n",
       " 'eid': '2-s2.0-85059543553',\n",
       " 'dc:title': 'Highly Efficient Production of Benzene-Free Aromatics from Methanol over Low-Si/Al-Ratio Alkali-Modified Fe/Zn/HZSM-5',\n",
       " 'dc:creator': 'Ghanbari B.',\n",
       " 'prism:publicationName': 'ACS Omega',\n",
       " 'prism:eIssn': '24701343',\n",
       " 'prism:volume': '3',\n",
       " 'prism:issueIdentifier': '12',\n",
       " 'prism:pageRange': '18821-18835',\n",
       " 'prism:coverDate': '2018-12-31',\n",
       " 'prism:coverDisplayDate': '31 December 2018',\n",
       " 'prism:doi': '10.1021/acsomega.8b01380',\n",
       " 'dc:description': '© 2018 American Chemical Society. Herein, the methanol conversion to aromatic hydrocarbons was studied over a new family of mesoporous low-silica HZSM-5 (Si/Al = 11) catalysts in a fixed-bed tubular reactor under ambient pressure at 375 °C, feeding with weight hourly space velocity of 2 h-1. The catalysts were prepared in the absence and presence of Zn and Fe in both alkaline and neutral aqueous solutions, characterized by using X-ray diffraction, X-ray fluorescence, temperature programmed desorption of ammonia, N2 adsorption/desorption, thermogravimetric analysis, Fourier-transform infrared, transmission electron microscopy (TEM), field emission scanning electron microscopy and FE-SEM/energy dispersive X-ray spectroscopy techniques. The [0.2Fe,0.3Zn]-alk-HZSM-5 catalyst exhibited novel selectivity for aromatics (>86 wt %), specifically for m and p-xylenes (44.7 wt %) alongside 0.1 wt % for benzene.',\n",
       " 'citedby-count': '1',\n",
       " 'affiliation': [{'@_fa': 'true',\n",
       "   'affiliation-url': 'https://api.elsevier.com/content/affiliation/affiliation_id/60027666',\n",
       "   'afid': '60027666',\n",
       "   'affilname': 'Sharif University of Technology',\n",
       "   'affiliation-city': 'Tehran',\n",
       "   'affiliation-country': 'Iran'},\n",
       "  {'@_fa': 'true',\n",
       "   'affiliation-url': 'https://api.elsevier.com/content/affiliation/affiliation_id/60003215',\n",
       "   'afid': '60003215',\n",
       "   'affilname': 'Research Institute of Petroleum Industry, Tehran',\n",
       "   'affiliation-city': 'Tehran',\n",
       "   'affiliation-country': 'Iran'}],\n",
       " 'prism:aggregationType': 'Journal',\n",
       " 'subtype': 'ar',\n",
       " 'subtypeDescription': 'Article',\n",
       " 'author-count': {'@limit': '100', '$': '4'},\n",
       " 'author': [{'@_fa': 'true',\n",
       "   '@seq': '1',\n",
       "   'author-url': 'https://api.elsevier.com/content/author/author_id/6506523346',\n",
       "   'authid': '6506523346',\n",
       "   'authname': 'Ghanbari B.',\n",
       "   'surname': 'Ghanbari',\n",
       "   'given-name': 'Bahram',\n",
       "   'initials': 'B.',\n",
       "   'afid': [{'@_fa': 'true', '$': '60027666'}]},\n",
       "  {'@_fa': 'true',\n",
       "   '@seq': '2',\n",
       "   'author-url': 'https://api.elsevier.com/content/author/author_id/57205317813',\n",
       "   'authid': '57205317813',\n",
       "   'authname': 'Zangeneh F.',\n",
       "   'surname': 'Zangeneh',\n",
       "   'given-name': 'Fatemeh Kazemi',\n",
       "   'initials': 'F.K.',\n",
       "   'afid': [{'@_fa': 'true', '$': '60027666'}]},\n",
       "  {'@_fa': 'true',\n",
       "   '@seq': '3',\n",
       "   'author-url': 'https://api.elsevier.com/content/author/author_id/57205325203',\n",
       "   'authid': '57205325203',\n",
       "   'authname': 'Rizi Z.',\n",
       "   'surname': 'Rizi',\n",
       "   'given-name': 'Zahra Taheri',\n",
       "   'initials': 'Z.T.',\n",
       "   'afid': [{'@_fa': 'true', '$': '60003215'}]},\n",
       "  {'@_fa': 'true',\n",
       "   '@seq': '4',\n",
       "   'author-url': 'https://api.elsevier.com/content/author/author_id/56196268100',\n",
       "   'authid': '56196268100',\n",
       "   'authname': 'Aghaei E.',\n",
       "   'surname': 'Aghaei',\n",
       "   'given-name': 'Erfan',\n",
       "   'initials': 'E.',\n",
       "   'afid': [{'@_fa': 'true', '$': '60003215'}]}],\n",
       " 'source-id': '21100828963',\n",
       " 'fund-no': 'undefined',\n",
       " 'fund-sponsor': 'Sharif University of Technology',\n",
       " 'openaccess': '1',\n",
       " 'openaccessFlag': True}"
      ]
     },
     "execution_count": 89,
     "metadata": {},
     "output_type": "execute_result"
    }
   ],
   "source": [
    "data[0]"
   ]
  },
  {
   "cell_type": "markdown",
   "metadata": {},
   "source": [
    "-------------"
   ]
  },
  {
   "cell_type": "code",
   "execution_count": 64,
   "metadata": {
    "scrolled": false
   },
   "outputs": [],
   "source": [
    "# playground\n",
    "\n",
    "class Institution:\n",
    "    \n",
    "    count = 0\n",
    "    ids = []\n",
    "    \n",
    "    def __init__(self, affil_id: int, name = 'Sharif', alias = []):\n",
    "        if affil_id not in Institution.ids:\n",
    "            self.id = affil_id\n",
    "            Institution.ids.append(affil_id)\n",
    "            self.name = name\n",
    "            self.alias = alias\n",
    "            self.depts = []\n",
    "            Institution.count += 1\n",
    "    \n",
    "    def add_dept(self, dept):\n",
    "        if dept not in self.depts:\n",
    "            self.depts.append(dept)\n",
    "    \n",
    "    def get_all():\n",
    "        return Institution.ids\n",
    "\n",
    "class Department:\n",
    "    \n",
    "    count = 0\n",
    "    \n",
    "    def __init__(self, name, abbr, parent, alias = []):\n",
    "        self.name = name\n",
    "        self.abbr = abbr\n",
    "        self.parent = parent\n",
    "        self.alias = alias\n",
    "        self.authors = []\n",
    "        self.faculties = []\n",
    "        Department.count += 1\n",
    "    \n",
    "    def add_author(self, author):\n",
    "        if author not in self.authors:\n",
    "            self.authors.append(author)\n",
    "            if (author.faculty) and (author not in self.faculties):\n",
    "                self.faculties.append(author)\n",
    "\n",
    "class Author:\n",
    "    \n",
    "    count = 0\n",
    "    \n",
    "    def __init__(self, author_id, first_name, last_name, gender = '', rank = '', faculty = False):\n",
    "        self.id = author_id\n",
    "        self.first = first_name\n",
    "        self.last = last_name\n",
    "        self.dept = dept\n",
    "        self.inst = inst\n",
    "        self.faculty = faculty\n",
    "        self.gender = gender\n",
    "        self.rank = ''\n",
    "        self.publications = []\n",
    "        Author.count += 1\n",
    "    \n",
    "    def add_pub(self, publication):\n",
    "        if publication not in self.publications:\n",
    "            self.publications.append(publication)\n",
    "\n",
    "class Publication:\n",
    "    \n",
    "    count = 0\n",
    "    \n",
    "    def __init__(self, publication_id, authors, title, year, journal, keywords):\n",
    "        self.id = publication_id\n",
    "        self.authors = authors\n",
    "        self.title = title\n",
    "        self.year = year\n",
    "        self.journal = journal\n",
    "        self.keywords = keywords\n",
    "        "
   ]
  },
  {
   "cell_type": "code",
   "execution_count": 71,
   "metadata": {},
   "outputs": [
    {
     "data": {
      "text/plain": [
       "25"
      ]
     },
     "execution_count": 71,
     "metadata": {},
     "output_type": "execute_result"
    }
   ],
   "source": [
    "for paper in data[0:1]:\n"
   ]
  }
 ],
 "metadata": {
  "kernelspec": {
   "display_name": "Python 3",
   "language": "python",
   "name": "python3"
  },
  "language_info": {
   "codemirror_mode": {
    "name": "ipython",
    "version": 3
   },
   "file_extension": ".py",
   "mimetype": "text/x-python",
   "name": "python",
   "nbconvert_exporter": "python",
   "pygments_lexer": "ipython3",
   "version": "3.6.6"
  }
 },
 "nbformat": 4,
 "nbformat_minor": 2
}
