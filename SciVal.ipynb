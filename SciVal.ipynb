{
 "cells": [
  {
   "cell_type": "code",
   "execution_count": 1,
   "metadata": {},
   "outputs": [],
   "source": [
    "import requests as req\n",
    "import json\n",
    "import io\n",
    "# import time\n",
    "# import os\n",
    "# import random\n",
    "\n",
    "with open('config.json', 'r') as read_file:\n",
    "    client = json.load(read_file)"
   ]
  },
  {
   "cell_type": "code",
   "execution_count": 16,
   "metadata": {},
   "outputs": [],
   "source": [
    "# functions\n",
    "def ceildiv(a, b):\n",
    "    return -(-a // b)\n",
    "\n",
    "def id_generator(size: int = 6):\n",
    "    chars = 'ABCDEFGHIJKLMNOPQRSTUVWXYZ0123456789'\n",
    "    return ''.join(random.choice(chars) for _ in range(size))\n",
    "\n",
    "def scp_query(query: str = '', inst: str = '', city: str = '', country: str = '', open_access: str = '',\n",
    "    start_year: int = 0, end_year: int = 0):\n",
    "    \n",
    "    inst_q, city_q, country_q = '', '', ''\n",
    "    if inst:\n",
    "        inst_q = ' AND '.join(inst.lower().split(' '))\n",
    "    if city:\n",
    "        city_q = ' AND '.join(city.lower().split(' '))\n",
    "    if country:\n",
    "        country_q = ' AND '.join(country.lower().split(' '))\n",
    "    query = [\n",
    "        (f'{query}' if query else ''),\n",
    "        (f'AFFIL({inst_q})' if inst_q else ''),\n",
    "        (f'AFFILCITY({city_q})' if city_q else ''),\n",
    "        (f'AFFILCOUNTRY({country_q})' if country_q else ''),\n",
    "        (f'ACCESSTYPE({open_access})' if open_access else ''),\n",
    "        (f'(PUBYEAR > {start_year - 1})' if start_year else ''),\n",
    "        (f'(PUBYEAR < {end_year + 1})' if end_year != 0 else ''),\n",
    "    ]\n",
    "    query = filter(lambda element: element, query)\n",
    "    return ' AND '.join(query)\n",
    "\n",
    "def scp_lookup(client:dict, query: str):\n",
    "    base = 'https://api.elsevier.com/metrics/institution/search'\n",
    "    params = {\n",
    "        'query': query,\n",
    "        'apiKey': client['apikey'],\n",
    "        'insttoken': client['insttoken'],\n",
    "#         'view': 'COMPLETE',\n",
    "#         'start': f'{start_cursor + (cnt * count_per_page)}',\n",
    "#         'count': f'{count_per_page}',\n",
    "    }\n",
    "    headers = {'Accept': 'application/json'}\n",
    "    print(query)\n",
    "    print(params)\n",
    "    return req.get(url=base, params=params)\n",
    "\n",
    "def export_file(data: str, inst: str, year: int,\n",
    "    open_access: str = '', file_id: str = '', folder: str = '', cnt: int = 0, extension: str = '.txt'):\n",
    "    \n",
    "    if not os.path.exists(folder):\n",
    "        os.makedirs(folder)\n",
    "    \n",
    "    cnt = str(cnt).zfill(3)\n",
    "    isnt = inst.replace(' ', '-')\n",
    "    if extension[0] != '.':\n",
    "        extension += '.'\n",
    "    file_name = f'{inst}_y{year}_{cnt}'\n",
    "    if open_access:\n",
    "        file_name += f'_access-{open_access.upper()}'\n",
    "    if file_id:\n",
    "        file_name += f'_{file_id}'\n",
    "    file_name += f'_{int(time.time())}{extension}'\n",
    "    file_name = os.path.join(folder, file_name)\n",
    "    with io.open(file_name, 'w', encoding='utf8') as f:\n",
    "        f.write(data) \n",
    "\n",
    "def scp_papers(client: dict, query: str, years: list, inst: str, folder: str = ''):\n",
    "    file_id = id_generator()\n",
    "    for year in range(years[0], years[1]):\n",
    "        q = scp_query(query=query, start_year=year, end_year=year)\n",
    "        res = scp_lookup(client=client, query=q, cnt=0)\n",
    "        total_results = int(res.json()['search-results']['opensearch:totalResults'])\n",
    "        \n",
    "        export_file(data=res.text, file_id=file_id, inst=inst, year=year, folder=folder, cnt=0, extension='.txt')\n",
    "        if total_results > 5000:\n",
    "            print(f'WARNING: paper count: {total_results}. Retrieving only the first 5000')\n",
    "        page_count = min(ceildiv(total_results, 25), 200) # 25 is the max number of papers in each request\n",
    "        for cnt in range(1, page_count):\n",
    "            res = scp_lookup(client=client, query=q, cnt=cnt)\n",
    "            export_file(data=res.text, file_id=file_id, inst=inst, year=year, folder=folder, cnt=cnt, extension='.txt')"
   ]
  },
  {
   "cell_type": "code",
   "execution_count": 17,
   "metadata": {},
   "outputs": [
    {
     "name": "stdout",
     "output_type": "stream",
     "text": [
      "name(Harvard) or name(Massachusetts Institute of Technology)\n",
      "{'query': 'name(Harvard) or name(Massachusetts Institute of Technology)', 'apiKey': 'ef153b4cfcdff96a0d11d90c5f231676', 'insttoken': 'fa135528e1510f441eead9b048db4aa0'}\n"
     ]
    }
   ],
   "source": [
    "res = scp_lookup(client=client, query='name(Harvard) or name(Massachusetts Institute of Technology)')"
   ]
  },
  {
   "cell_type": "code",
   "execution_count": 13,
   "metadata": {},
   "outputs": [
    {
     "data": {
      "text/plain": [
       "{'service-error': {'status': {'statusCode': 'AUTHENTICATION_ERROR',\n",
       "   'statusText': 'Invalid API Key: valid apikey credentials required.'}}}"
      ]
     },
     "execution_count": 13,
     "metadata": {},
     "output_type": "execute_result"
    }
   ],
   "source": [
    "res.json()"
   ]
  }
 ],
 "metadata": {
  "kernelspec": {
   "display_name": "Python 3",
   "language": "python",
   "name": "python3"
  },
  "language_info": {
   "codemirror_mode": {
    "name": "ipython",
    "version": 3
   },
   "file_extension": ".py",
   "mimetype": "text/x-python",
   "name": "python",
   "nbconvert_exporter": "python",
   "pygments_lexer": "ipython3",
   "version": "3.6.8"
  }
 },
 "nbformat": 4,
 "nbformat_minor": 2
}
