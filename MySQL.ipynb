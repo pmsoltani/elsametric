{
 "cells": [
  {
   "cell_type": "code",
   "execution_count": 4,
   "metadata": {
    "ExecuteTime": {
     "end_time": "2019-06-08T17:47:26.505236Z",
     "start_time": "2019-06-08T17:47:26.497243Z"
    }
   },
   "outputs": [],
   "source": [
    "import mysql.connector as mysql\n",
    "import json\n",
    "import os\n",
    "import io\n",
    "import csv\n",
    "import random\n",
    "from collections import OrderedDict\n",
    "from datetime import datetime\n",
    "from wrapper import Database, data_inspector\n",
    "\n",
    "with open('config.json', 'r') as read_file:\n",
    "    client = json.load(read_file)"
   ]
  },
  {
   "cell_type": "code",
   "execution_count": 13,
   "metadata": {
    "ExecuteTime": {
     "end_time": "2019-06-08T07:48:15.358767Z",
     "start_time": "2019-06-08T07:48:14.288754Z"
    }
   },
   "outputs": [],
   "source": [
    "path = 'data\\\\Sharif University of Technology'\n",
    "files = list(os.walk(path))[0][2]\n",
    "\n",
    "with io.open(os.path.join(path, files[0]), 'r', encoding='utf8') as raw:\n",
    "    data = json.load(raw)\n",
    "\n",
    "faculties = []\n",
    "with io.open('data\\\\faculties.csv', 'r', encoding='utf-8-sig') as csvFile:\n",
    "    reader = csv.DictReader(csvFile)\n",
    "    for row in reader:\n",
    "        if row['Scopus']:\n",
    "            row['Scopus'] = list(map(int, row['Scopus'].split(',')))\n",
    "        faculties.append(row)\n",
    "\n",
    "asjc = []\n",
    "with io.open('data\\\\ASJC Codes.csv', 'r', encoding='utf-8-sig') as csvFile:\n",
    "    reader = csv.DictReader(csvFile)\n",
    "    for row in reader:\n",
    "        asjc.append(row)\n",
    "\n",
    "sources = []\n",
    "with io.open('data\\\\Scopus Sources.csv', 'r', encoding='utf-8-sig') as csvFile:\n",
    "    reader = csv.DictReader(csvFile)\n",
    "    to_be_removed = [\n",
    "        'Active', 'Discontinued', 'Coverage', '2016 CiteScore', '2017 CiteScore', '2018 CiteScore',\n",
    "        'Medline-sourced', 'Open Access', 'Articles in Press Included', 'Added to list April 2019',\n",
    "        'Title history indication', 'Related title to title history indication', 'Other related title 1',\n",
    "        'Other related title 2', 'Other related title 3', 'Publisher imprints grouped to main Publisher',\n",
    "    ]\n",
    "    for row in reader:\n",
    "        for col in to_be_removed:\n",
    "            row.pop(col, None)\n",
    "        row['ASJC'] = [int(code)\n",
    "                       for code in row['ASJC'].split(';') if code != '']\n",
    "        sources.append(row)"
   ]
  },
  {
   "cell_type": "code",
   "execution_count": null,
   "metadata": {
    "ExecuteTime": {
     "end_time": "2019-06-08T17:45:00.521757Z",
     "start_time": "2019-06-08T17:44:59.184249Z"
    }
   },
   "outputs": [],
   "source": [
    "# d = Database(config = client, db_name = 'scopus')\n",
    "# d._insert_many('paper_funding', [{'agency_id_scp': 27, 'agency': 'FQatar', 'agency_acronym': 'QNSF'}])#,{'agency_id_scp': 13, 'agency': 'US', 'agency_acronym': 'NSF'}])\n",
    "# d._insert_many('source_subject', [{'source_id': 2, 'subject_id': 2},{'subject_id': 3, 'source_id': 1}])\n",
    "# d._read('paper_funding', {'agency_id_scp': {'value': 2, 'operator': '='}}, result_columns=True)\n",
    "# d._insert_one('paper_funding', {'agency_id_scp': 2, 'agency': 'FQatar', 'agency_acronym': 'QNSF'})#,{'agency_id_scp': 13, 'agency': 'US', 'agency_acronym': 'NSF'}])\n",
    "# d._read('source_subject', {'source_id': {'value': 1, 'operator': '='}, 'subject_id': {'value': 3, 'operator': '='}}, result_columns=True)\n",
    "# d._table_order()\n",
    "# print(d.describe('subject'))\n",
    "# d._close()"
   ]
  },
  {
   "cell_type": "code",
   "execution_count": 5,
   "metadata": {
    "ExecuteTime": {
     "end_time": "2019-06-08T17:47:31.863894Z",
     "start_time": "2019-06-08T17:47:30.641914Z"
    }
   },
   "outputs": [
    {
     "name": "stdout",
     "output_type": "stream",
     "text": [
      "Sharif University of Technology_y2018_000_S9J79E_1558880307.txt\n",
      "SCOPUS_ID:85059543553\n",
      "{'msg': 'paper exists', 'value': 1}\n",
      "---------------------\n",
      "Sharif University of Technology_y2018_000_S9J79E_1558880307.txt\n",
      "SCOPUS_ID:85051772463\n",
      "{'msg': 'paper exists', 'value': 2}\n",
      "---------------------\n",
      "Sharif University of Technology_y2018_000_S9J79E_1558880307.txt\n",
      "SCOPUS_ID:85063011120\n",
      "{'msg': 'paper exists', 'value': 3}\n",
      "---------------------\n",
      "Sharif University of Technology_y2018_000_S9J79E_1558880307.txt\n",
      "SCOPUS_ID:85059513265\n",
      "{'msg': 'paper exists', 'value': 4}\n",
      "---------------------\n",
      "Sharif University of Technology_y2018_000_S9J79E_1558880307.txt\n",
      "SCOPUS_ID:85060849059\n",
      "{'msg': 'paper exists', 'value': 5}\n",
      "---------------------\n",
      "Sharif University of Technology_y2018_000_S9J79E_1558880307.txt\n",
      "SCOPUS_ID:85055661422\n",
      "{'msg': 'paper exists', 'value': 6}\n",
      "---------------------\n",
      "Sharif University of Technology_y2018_000_S9J79E_1558880307.txt\n",
      "SCOPUS_ID:85059028391\n",
      "{'msg': 'paper exists', 'value': 7}\n",
      "---------------------\n",
      "Sharif University of Technology_y2018_000_S9J79E_1558880307.txt\n",
      "SCOPUS_ID:85056670240\n",
      "{'msg': 'paper exists', 'value': 8}\n",
      "---------------------\n",
      "Sharif University of Technology_y2018_000_S9J79E_1558880307.txt\n",
      "SCOPUS_ID:85055713349\n",
      "{'msg': 'paper exists', 'value': 9}\n",
      "---------------------\n",
      "Sharif University of Technology_y2018_000_S9J79E_1558880307.txt\n",
      "SCOPUS_ID:85060542263\n",
      "{'msg': 'paper exists', 'value': 10}\n",
      "---------------------\n",
      "Sharif University of Technology_y2018_000_S9J79E_1558880307.txt\n",
      "SCOPUS_ID:85050272987\n",
      "{'msg': 'paper exists', 'value': 11}\n",
      "---------------------\n",
      "Sharif University of Technology_y2018_000_S9J79E_1558880307.txt\n",
      "SCOPUS_ID:85058523933\n",
      "{'msg': 'paper exists', 'value': 12}\n",
      "---------------------\n",
      "Sharif University of Technology_y2018_000_S9J79E_1558880307.txt\n",
      "SCOPUS_ID:85054590292\n",
      "{'msg': 'paper exists', 'value': 13}\n",
      "---------------------\n",
      "Sharif University of Technology_y2018_000_S9J79E_1558880307.txt\n",
      "SCOPUS_ID:85051130489\n",
      "{'msg': 'paper exists', 'value': 14}\n",
      "---------------------\n",
      "Sharif University of Technology_y2018_000_S9J79E_1558880307.txt\n",
      "SCOPUS_ID:85055321347\n",
      "{'msg': 'paper exists', 'value': 15}\n",
      "---------------------\n",
      "Sharif University of Technology_y2018_000_S9J79E_1558880307.txt\n",
      "SCOPUS_ID:85053053567\n",
      "{'msg': 'paper exists', 'value': 16}\n",
      "---------------------\n",
      "Sharif University of Technology_y2018_000_S9J79E_1558880307.txt\n",
      "SCOPUS_ID:85053412759\n",
      "{'msg': 'paper exists', 'value': 17}\n",
      "---------------------\n",
      "Sharif University of Technology_y2018_000_S9J79E_1558880307.txt\n",
      "SCOPUS_ID:85054899973\n",
      "{'msg': 'paper exists', 'value': 18}\n",
      "---------------------\n",
      "Sharif University of Technology_y2018_000_S9J79E_1558880307.txt\n",
      "SCOPUS_ID:85055259222\n",
      "{'msg': 'paper exists', 'value': 19}\n",
      "---------------------\n",
      "Sharif University of Technology_y2018_000_S9J79E_1558880307.txt\n",
      "SCOPUS_ID:85053795188\n",
      "{'msg': 'paper exists', 'value': 20}\n",
      "---------------------\n",
      "Sharif University of Technology_y2018_000_S9J79E_1558880307.txt\n",
      "SCOPUS_ID:85057762497\n",
      "{'msg': 'paper exists', 'value': 21}\n",
      "---------------------\n",
      "Sharif University of Technology_y2018_000_S9J79E_1558880307.txt\n",
      "SCOPUS_ID:85058160535\n",
      "{'msg': 'paper exists', 'value': 22}\n",
      "---------------------\n",
      "Sharif University of Technology_y2018_000_S9J79E_1558880307.txt\n",
      "SCOPUS_ID:85059035822\n",
      "{'msg': 'paper exists', 'value': 23}\n",
      "---------------------\n",
      "Sharif University of Technology_y2018_000_S9J79E_1558880307.txt\n",
      "SCOPUS_ID:85060379047\n",
      "{'msg': 'paper exists', 'value': 24}\n",
      "---------------------\n",
      "Sharif University of Technology_y2018_000_S9J79E_1558880307.txt\n",
      "SCOPUS_ID:85058157982\n",
      "{'msg': 'paper exists', 'value': 25}\n",
      "---------------------\n",
      "\n",
      "\n",
      "82 file reviewed\n",
      "25 papers reviewed\n",
      "0 papers skipped\n",
      "25 papers inserted into the db\n"
     ]
    }
   ],
   "source": [
    "paper_cnt = 0\n",
    "skipped_cnt = 0\n",
    "\n",
    "db = Database(config=client, db_name='scopus')\n",
    "\n",
    "path = 'data\\\\Sharif University of Technology'\n",
    "files = list(os.walk(path))[0][2]\n",
    "\n",
    "for file in files[:1]:\n",
    "    with io.open(os.path.join(path, file), 'r', encoding='utf8') as raw:\n",
    "        data = json.load(raw)\n",
    "    data = data['search-results']['entry']\n",
    "    ret_time = datetime.utcfromtimestamp(\n",
    "        int(file.split('.')[0].split('_')[-1])).strftime('%Y-%m-%d %H:%M:%S')\n",
    "    for paper in data:\n",
    "        warnings = data_inspector(paper)\n",
    "        print(file)\n",
    "        print(paper['dc:identifier'])\n",
    "        ins_id = db.raw_insert(paper, retrieval_time=ret_time)\n",
    "        print(ins_id)\n",
    "        paper_cnt += 1\n",
    "        if not ins_id['value']:\n",
    "            skipped_cnt += 1\n",
    "        print('---------------------')\n",
    "db._close()\n",
    "print()\n",
    "print()\n",
    "print(f'{len(files)} file reviewed')\n",
    "print(f'{paper_cnt} papers reviewed')\n",
    "print(f'{skipped_cnt} papers skipped')\n",
    "print(f'{paper_cnt - skipped_cnt} papers inserted into the db')\n",
    "# ins_id"
   ]
  },
  {
   "cell_type": "code",
   "execution_count": null,
   "metadata": {},
   "outputs": [],
   "source": []
  }
 ],
 "metadata": {
  "kernelspec": {
   "display_name": "Python 3",
   "language": "python",
   "name": "python3"
  },
  "language_info": {
   "codemirror_mode": {
    "name": "ipython",
    "version": 3
   },
   "file_extension": ".py",
   "mimetype": "text/x-python",
   "name": "python",
   "nbconvert_exporter": "python",
   "pygments_lexer": "ipython3",
   "version": "3.6.6"
  },
  "varInspector": {
   "cols": {
    "lenName": 16,
    "lenType": 16,
    "lenVar": 40
   },
   "kernels_config": {
    "python": {
     "delete_cmd_postfix": "",
     "delete_cmd_prefix": "del ",
     "library": "var_list.py",
     "varRefreshCmd": "print(var_dic_list())"
    },
    "r": {
     "delete_cmd_postfix": ") ",
     "delete_cmd_prefix": "rm(",
     "library": "var_list.r",
     "varRefreshCmd": "cat(var_dic_list()) "
    }
   },
   "types_to_exclude": [
    "module",
    "function",
    "builtin_function_or_method",
    "instance",
    "_Feature"
   ],
   "window_display": false
  }
 },
 "nbformat": 4,
 "nbformat_minor": 2
}
